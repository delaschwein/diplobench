{
 "cells": [
  {
   "cell_type": "code",
   "execution_count": null,
   "metadata": {},
   "outputs": [
    {
     "name": "stderr",
     "output_type": "stream",
     "text": [
      "ffmpeg version 4.4.2-0ubuntu0.22.04.1 Copyright (c) 2000-2021 the FFmpeg developers\n",
      "  built with gcc 11 (Ubuntu 11.2.0-19ubuntu1)\n",
      "  configuration: --prefix=/usr --extra-version=0ubuntu0.22.04.1 --toolchain=hardened --libdir=/usr/lib/x86_64-linux-gnu --incdir=/usr/include/x86_64-linux-gnu --arch=amd64 --enable-gpl --disable-stripping --enable-gnutls --enable-ladspa --enable-libaom --enable-libass --enable-libbluray --enable-libbs2b --enable-libcaca --enable-libcdio --enable-libcodec2 --enable-libdav1d --enable-libflite --enable-libfontconfig --enable-libfreetype --enable-libfribidi --enable-libgme --enable-libgsm --enable-libjack --enable-libmp3lame --enable-libmysofa --enable-libopenjpeg --enable-libopenmpt --enable-libopus --enable-libpulse --enable-librabbitmq --enable-librubberband --enable-libshine --enable-libsnappy --enable-libsoxr --enable-libspeex --enable-libsrt --enable-libssh --enable-libtheora --enable-libtwolame --enable-libvidstab --enable-libvorbis --enable-libvpx --enable-libwebp --enable-libx265 --enable-libxml2 --enable-libxvid --enable-libzimg --enable-libzmq --enable-libzvbi --enable-lv2 --enable-omx --enable-openal --enable-opencl --enable-opengl --enable-sdl2 --enable-pocketsphinx --enable-librsvg --enable-libmfx --enable-libdc1394 --enable-libdrm --enable-libiec61883 --enable-chromaprint --enable-frei0r --enable-libx264 --enable-shared\n",
      "  libavutil      56. 70.100 / 56. 70.100\n",
      "  libavcodec     58.134.100 / 58.134.100\n",
      "  libavformat    58. 76.100 / 58. 76.100\n",
      "  libavdevice    58. 13.100 / 58. 13.100\n",
      "  libavfilter     7.110.100 /  7.110.100\n",
      "  libswscale      5.  9.100 /  5.  9.100\n",
      "  libswresample   3.  9.100 /  3.  9.100\n",
      "  libpostproc    55.  9.100 / 55.  9.100\n",
      "Input #0, image2, from 'temp_frames/frame_%04d.png':\n",
      "  Duration: 00:00:26.00, start: 0.000000, bitrate: N/A\n",
      "  Stream #0:0: Video: png, rgba(pc), 918x680, 2 fps, 2 tbr, 2 tbn, 2 tbc\n",
      "Stream mapping:\n",
      "  Stream #0:0 -> #0:0 (png (native) -> h264 (libx264))\n",
      "Press [q] to stop, [?] for help\n",
      "[libx264 @ 0x5594f46ed7c0] using cpu capabilities: MMX2 SSE2Fast SSSE3 SSE4.2 AVX FMA3 BMI2 AVX2\n",
      "[libx264 @ 0x5594f46ed7c0] profile High, level 3.1, 4:2:0, 8-bit\n",
      "[libx264 @ 0x5594f46ed7c0] 264 - core 163 r3060 5db6aa6 - H.264/MPEG-4 AVC codec - Copyleft 2003-2021 - http://www.videolan.org/x264.html - options: cabac=1 ref=3 deblock=1:0:0 analyse=0x3:0x113 me=hex subme=7 psy=1 psy_rd=1.00:0.00 mixed_ref=1 me_range=16 chroma_me=1 trellis=1 8x8dct=1 cqm=0 deadzone=21,11 fast_pskip=1 chroma_qp_offset=-2 threads=21 lookahead_threads=3 sliced_threads=0 nr=0 decimate=1 interlaced=0 bluray_compat=0 constrained_intra=0 bframes=3 b_pyramid=2 b_adapt=1 b_bias=0 direct=1 weightb=1 open_gop=0 weightp=2 keyint=250 keyint_min=2 scenecut=40 intra_refresh=0 rc_lookahead=40 rc=crf mbtree=1 crf=23.0 qcomp=0.60 qpmin=0 qpmax=69 qpstep=4 ip_ratio=1.40 aq=1:1.00\n",
      "Output #0, mp4, to 'game_animation.mp4':\n",
      "  Metadata:\n",
      "    encoder         : Lavf58.76.100\n",
      "  Stream #0:0: Video: h264 (avc1 / 0x31637661), yuv420p(tv, progressive), 918x680, q=2-31, 2 fps, 16384 tbn\n",
      "    Metadata:\n",
      "      encoder         : Lavc58.134.100 libx264\n",
      "    Side data:\n",
      "      cpb: bitrate max/min/avg: 0/0/0 buffer size: 0 vbv_delay: N/A\n",
      "frame=    1 fps=0.0 q=0.0 size=       0kB time=00:00:00.00 bitrate=N/A speed=   0x    \r"
     ]
    },
    {
     "name": "stdout",
     "output_type": "stream",
     "text": [
      "Saved animation as game_animation.mp4\n"
     ]
    },
    {
     "name": "stderr",
     "output_type": "stream",
     "text": [
      "frame=   52 fps=0.0 q=-1.0 Lsize=     512kB time=00:00:24.50 bitrate= 171.3kbits/s speed=79.4x    \n",
      "video:511kB audio:0kB subtitle:0kB other streams:0kB global headers:0kB muxing overhead: 0.282307%\n",
      "[libx264 @ 0x5594f46ed7c0] frame I:1     Avg QP: 8.61  size: 89752\n",
      "[libx264 @ 0x5594f46ed7c0] frame P:14    Avg QP:16.16  size: 13600\n",
      "[libx264 @ 0x5594f46ed7c0] frame B:37    Avg QP:21.73  size:  6550\n",
      "[libx264 @ 0x5594f46ed7c0] consecutive B-frames:  1.9%  7.7%  5.8% 84.6%\n",
      "[libx264 @ 0x5594f46ed7c0] mb I  I16..4: 57.0%  0.8% 42.2%\n",
      "[libx264 @ 0x5594f46ed7c0] mb P  I16..4:  4.0%  1.7%  2.9%  P16..4:  8.2%  0.9%  1.1%  0.0%  0.0%    skip:81.1%\n",
      "[libx264 @ 0x5594f46ed7c0] mb B  I16..4:  0.1%  0.2%  1.4%  B16..8: 10.0%  0.6%  0.4%  direct: 0.3%  skip:87.0%  L0:54.5% L1:44.8% BI: 0.6%\n",
      "[libx264 @ 0x5594f46ed7c0] 8x8 transform intra:11.3% inter:12.5%\n",
      "[libx264 @ 0x5594f46ed7c0] coded y,uvDC,uvAC intra: 32.2% 50.0% 46.4% inter: 2.3% 3.6% 3.2%\n",
      "[libx264 @ 0x5594f46ed7c0] i16 v,h,dc,p: 88%  9%  3%  0%\n",
      "[libx264 @ 0x5594f46ed7c0] i8 v,h,dc,ddl,ddr,vr,hd,vl,hu: 20%  4% 74%  1%  0%  0%  0%  0%  0%\n",
      "[libx264 @ 0x5594f46ed7c0] i4 v,h,dc,ddl,ddr,vr,hd,vl,hu: 22% 20% 28%  6%  6%  4%  5%  4%  5%\n",
      "[libx264 @ 0x5594f46ed7c0] i8c dc,h,v,p: 66% 16% 14%  3%\n",
      "[libx264 @ 0x5594f46ed7c0] Weighted P-Frames: Y:0.0% UV:0.0%\n",
      "[libx264 @ 0x5594f46ed7c0] ref P L0: 50.2%  4.9% 31.0% 14.0%\n",
      "[libx264 @ 0x5594f46ed7c0] ref B L0: 81.8% 15.2%  3.0%\n",
      "[libx264 @ 0x5594f46ed7c0] ref B L1: 92.7%  7.3%\n",
      "[libx264 @ 0x5594f46ed7c0] kb/s:160.77\n"
     ]
    }
   ],
   "source": [
    "import os\n",
    "import glob\n",
    "import re\n",
    "import subprocess\n",
    "\n",
    "pattern = re.compile(r'gamestate_(?P<phase>[SFW])(?P<turn>\\d+)(?P<subphase>[MRA])\\.svg')\n",
    "phase_order = {'S': 1, 'F': 2, 'W': 3}\n",
    "subphase_order = {'M': 1, 'R': 2, 'A': 1}\n",
    "\n",
    "def sort_key(filepath):\n",
    "    filename = os.path.basename(filepath)\n",
    "    match = pattern.match(filename)\n",
    "    if match:\n",
    "        turn = int(match.group('turn'))\n",
    "        phase = match.group('phase')\n",
    "        subphase = match.group('subphase')\n",
    "        return (turn, phase_order[phase], subphase_order[subphase])\n",
    "    return (0, 0, 0)\n",
    "\n",
    "#svg_dir = \"gamestate_renders/o3-mini-1.6\"\n",
    "svg_dir = \"gamestate_renders/claude-3.7-sonnet-1.54\"\n",
    "svg_files = glob.glob(os.path.join(svg_dir, \"*.svg\"))\n",
    "svg_files = sorted(svg_files, key=sort_key)\n",
    "\n",
    "os.makedirs(\"temp_frames\", exist_ok=True)\n",
    "\n",
    "for i, svg_file in enumerate(svg_files):\n",
    "    png_file = f\"temp_frames/frame_{i:04d}.png\"\n",
    "    subprocess.run(['rsvg-convert', '-o', png_file, svg_file], check=True)\n",
    "\n",
    "subprocess.run([\n",
    "    'ffmpeg', '-y',\n",
    "    '-framerate', '1',\n",
    "    '-i', 'temp_frames/frame_%04d.png',\n",
    "    '-c:v', 'libx264',\n",
    "    '-pix_fmt', 'yuv420p',\n",
    "    '-crf', '23',\n",
    "    'game_animation.mp4'\n",
    "])\n",
    "\n",
    "for f in glob.glob(\"temp_frames/*.png\"):\n",
    "    os.remove(f)\n",
    "os.rmdir(\"temp_frames\")\n",
    "\n",
    "print(\"Saved animation as game_animation.mp4\")"
   ]
  }
 ],
 "metadata": {
  "kernelspec": {
   "display_name": "Python 3",
   "language": "python",
   "name": "python3"
  },
  "language_info": {
   "codemirror_mode": {
    "name": "ipython",
    "version": 3
   },
   "file_extension": ".py",
   "mimetype": "text/x-python",
   "name": "python",
   "nbconvert_exporter": "python",
   "pygments_lexer": "ipython3",
   "version": "3.10.6"
  }
 },
 "nbformat": 4,
 "nbformat_minor": 2
}
